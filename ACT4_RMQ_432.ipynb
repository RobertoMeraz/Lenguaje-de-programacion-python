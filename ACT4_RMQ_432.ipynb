{
  "nbformat": 4,
  "nbformat_minor": 0,
  "metadata": {
    "colab": {
      "provenance": [],
      "authorship_tag": "ABX9TyO5IHDoEzgiVE41rzcYCnou",
      "include_colab_link": true
    },
    "kernelspec": {
      "name": "python3",
      "display_name": "Python 3"
    },
    "language_info": {
      "name": "python"
    }
  },
  "cells": [
    {
      "cell_type": "markdown",
      "metadata": {
        "id": "view-in-github",
        "colab_type": "text"
      },
      "source": [
        "<a href=\"https://colab.research.google.com/github/RobertoMeraz/Lenguaje-de-programacion-python/blob/main/ACT4_RMQ_432.ipynb\" target=\"_parent\"><img src=\"https://colab.research.google.com/assets/colab-badge.svg\" alt=\"Open In Colab\"/></a>"
      ]
    },
    {
      "cell_type": "markdown",
      "source": [
        "#1.- Programa en python   que lea 3 calificaciones calcule el promedio del alumno y desplegar: \n",
        "\n",
        "##Si prom < 30 Repetir \n",
        "\n",
        "##Si prom >=30 y prom <60 extraordinario \n",
        "\n",
        "##Si prom >=60 y prom <70 suficiente \n",
        "\n",
        "##Si prom >=70 y prom <80 Regular \n",
        "\n",
        "##Si prom >=80 y prom <90 bien \n",
        "\n",
        "##Si prom >=90 y prom <98 muy bien \n",
        "\n",
        "##Si prom >=98 y prom <=100 excelente \n",
        "\n",
        "##Si prom >100 Error en promedio \n",
        "\n"
      ],
      "metadata": {
        "id": "2ldDlWm_53CU"
      }
    },
    {
      "cell_type": "code",
      "execution_count": 9,
      "metadata": {
        "colab": {
          "base_uri": "https://localhost:8080/",
          "height": 0
        },
        "id": "-2-8n0O65xTW",
        "outputId": "a0ce5f23-5dec-4466-cae2-43560d439567"
      },
      "outputs": [
        {
          "output_type": "stream",
          "name": "stdout",
          "text": [
            "Ingresa tu calificacion del primer parcial: 100\n",
            "Ingresa tu calificacion del segundo parcial: 50\n",
            "Ingresa tu calificacion del tercer parcial: 90\n",
            "Bien\n"
          ]
        }
      ],
      "source": [
        "try:  \n",
        "    cal1 = float(input(\"Ingresa tu calificacion del primer parcial: \"))\n",
        "    cal2 = float(input(\"Ingresa tu calificacion del segundo parcial: \"))\n",
        "    cal3 = float(input(\"Ingresa tu calificacion del tercer parcial: \"))\n",
        "    prom = (cal1+cal2+cal3) / 3\n",
        "\n",
        "\n",
        "    if prom >= 80:\n",
        "      if prom >= 98:\n",
        "          if prom > 100:\n",
        "            print(\"Error\")\n",
        "          else:\n",
        "              print(\"Excelente\")   \n",
        "      else:\n",
        "          if prom >= 90:\n",
        "              print(\"Muy bien\")\n",
        "          else:\n",
        "              print(\"Bien\")\n",
        "    else:\n",
        "        if prom >= 60:\n",
        "          if prom >= 70:\n",
        "              print(\"Regular\")\n",
        "          else:\n",
        "              print(\"Suficiente\")\n",
        "        else:\n",
        "            if prom >= 30:\n",
        "              print(\"Extraordinario\")\n",
        "            else:\n",
        "              print(\"Repetir\") \n",
        "except ValueError:\n",
        "    print(\"Tu promedio no puede ser mayor de 100\")"
      ]
    },
    {
      "cell_type": "markdown",
      "source": [
        "##2.- Programa en Python que sirva para calcular el salario semanal de un trabajador donde se obtiene como dato de entrada las horas semanales trabajadas, el salario por hora. \n",
        "\n",
        "##El programa deberá calcular el salario normal, salario extra y salario total, considerando lo siguiente: \n",
        "\n",
        "##Jornada Normal de 40 horas. \n",
        "##El salario normal se considera las horas trabajadas menores o igual a la \n",
        "##jornada normal\n",
        "##Salario extra se considera las horas trabajadas mayores a la jornada normal y \n",
        "##se pagan dobles las primeras 9 y triples a partir de la décima hora extra \n"
      ],
      "metadata": {
        "id": "bFeTeI5vGXHF"
      }
    },
    {
      "cell_type": "code",
      "source": [
        "hrs = int(input(\"Ingresa el total de horas laboradas: \"))\n",
        "sal_hr = int(input(\"Ingresa tu sueldo por hora: \"))\n",
        "try:\n",
        "    if hrs <= 40:\n",
        "        sal_hr = hrs*sal_h\n",
        "        sal_tot = sal_n\n",
        "        sal_ex = 0\n",
        "    else:\n",
        "        if hrs > 40:\n",
        "            hrs_ex = hrs + 9\n",
        "            if hrs > hrs_ex:\n",
        "                sal_n = hrs * sal_hr\n",
        "                sal_ex = sal_hr * 3\n",
        "                sal_tot = sal_n + sal_ex\n",
        "            else:\n",
        "                sal_n = hrs * sal_hr\n",
        "                sal_ex = sal_hr * 2\n",
        "                sal_tp = sal_n + sal_ex\n",
        "    print(\"Salario por hora:\", sal_hr)\n",
        "    print(\"Horas trabajadas: \", hrs)\n",
        "    print(\"Salario normal: \", sal_n)\n",
        "    print(\"Salario por horas extras: \", sal_ex)\n",
        "except: \n",
        "  print(\"No ingreses caracteres\")"
      ],
      "metadata": {
        "id": "8fbzHjKwGvaN",
        "colab": {
          "base_uri": "https://localhost:8080/",
          "height": 0
        },
        "outputId": "00f1d91b-efec-4d9b-cb30-5a24040adb02"
      },
      "execution_count": 10,
      "outputs": [
        {
          "output_type": "stream",
          "name": "stdout",
          "text": [
            "Ingresa el total de horas laboradas: 50\n",
            "Ingresa tu sueldo por hora: 200\n",
            "Salario por hora: 200\n",
            "Horas trabajadas:  50\n",
            "Salario normal:  10000\n",
            "Salario por horas extras:  400\n"
          ]
        }
      ]
    },
    {
      "cell_type": "markdown",
      "source": [
        "##3.- Programa en Python que sirva para calcular el Total a pagar por consumo de agua, donde el dato de entrada son los M3 de agua consumidos, Tomar en cuenta que se cobra escalonada de la Siguiente manera: \n"
      ],
      "metadata": {
        "id": "vaQVd2jh0FC3"
      }
    },
    {
      "cell_type": "code",
      "source": [
        "try:\n",
        "    metros3 = int(input(\"Ingresa el total de metros cubicos consumidos: \"))\n",
        "\n",
        "    if(metros3 > 15):\n",
        "        if(metros3 > 50):\n",
        "            print(\"Rango 4.\")\n",
        "            subtot = (50+88+350) + ((metros3-50)*11)\n",
        "        else:\n",
        "            print(\"Rango 3.\")\n",
        "            subtot = (50+88) + ((metros3-15)*10)\n",
        "    else:\n",
        "        if(metros3 >= 5):\n",
        "            print(\"Rango 2.\")\n",
        "            subtot = 50 + ((metros3-4)*8)\n",
        "        else:\n",
        "            print(\"Rango 1\")\n",
        "            subtot = metros3*50\n",
        "\n",
        "    iva = subtot * 0.16\n",
        "    print(f\"Subtotal: ${subtot}\")\n",
        "    print(f\"IVA: ${iva}\")\n",
        "    print(f\"Total: ${subtot+iva}\")\n",
        "\n",
        "except:\n",
        "    print(\"No ingreses caracteres\")"
      ],
      "metadata": {
        "colab": {
          "base_uri": "https://localhost:8080/",
          "height": 0
        },
        "id": "u7cSeXEu0d0g",
        "outputId": "c424af04-3447-4408-f27e-50dfa413094f"
      },
      "execution_count": 11,
      "outputs": [
        {
          "output_type": "stream",
          "name": "stdout",
          "text": [
            "Ingresa el total de metros cubicos consumidos: 30\n",
            "Rango 3.\n",
            "Subtotal: $288\n",
            "IVA: $46.08\n",
            "Total: $334.08\n"
          ]
        }
      ]
    },
    {
      "cell_type": "markdown",
      "source": [
        "##4- En la materia de Metodología de la programación se aplican 5 exámenes, calcular el promedio final de la materia donde la calificación menor de los exámenes se anula y el promedio se calcula en base a 4 exámenes.\n",
        "\n",
        "##Desplegar el promedio final. y cual es la mas baja que se elimino."
      ],
      "metadata": {
        "id": "1HTqscoy1Azq"
      }
    },
    {
      "cell_type": "code",
      "source": [
        "try:\n",
        "    cal1 = float(input(\"Ingresa tu calificacion del primer parcial: \"))\n",
        "    cal2 = float(input(\"Ingresa tu calificacion del segundo parcial: \"))\n",
        "    cal3 = float(input(\"Ingresa tu calificacion del tercer parcial: \"))\n",
        "    cal4 = float(input(\"Ingresa tu calificacion del cuarto parcial: \"))\n",
        "    cal5 = float(input(\"Ingresa tu calificacion del quinto parcial: \"))\n",
        "\n",
        "    cal_m = min(cal1, cal2, cal3, cal4, cal5) \n",
        "    prom = ((cal1+cal2+cal3+cal4)-cal_m)/4\n",
        "    1\n",
        "    print(f\"La calificacion mas baja fue: {cal_m}\")\n",
        "    print(f\"El promedio final es: {prom}\")\n",
        "\n",
        "except:\n",
        "    print(\"No ingreses caracteres\")\n",
        "     "
      ],
      "metadata": {
        "colab": {
          "base_uri": "https://localhost:8080/",
          "height": 0
        },
        "id": "ofjAYGSU1HhA",
        "outputId": "f02afba1-37d1-4ed2-e71b-6e6335da970c"
      },
      "execution_count": 13,
      "outputs": [
        {
          "output_type": "stream",
          "name": "stdout",
          "text": [
            "Ingresa tu calificacion del primer parcial: 20\n",
            "Ingresa tu calificacion del segundo parcial: 50\n",
            "Ingresa tu calificacion del tercer parcial: 100\n",
            "Ingresa tu calificacion del cuarto parcial: 97\n",
            "Ingresa tu calificacion del quinto parcial: 54\n",
            "La calificacion mas baja fue: 20.0\n",
            "El promedio final es: 61.75\n"
          ]
        }
      ]
    },
    {
      "cell_type": "markdown",
      "source": [
        "##5.- Programa en Python que sirva para el juego del CHINCHAMPU (Piedra, Papel, Tijera) para 1 jugador y la computadora"
      ],
      "metadata": {
        "id": "TbbII_7N2L_Y"
      }
    },
    {
      "cell_type": "code",
      "source": [
        "import random\n",
        "try:\n",
        "    print(\"1 - Piedra\")\n",
        "    print(\"2 - Papel\")\n",
        "    print(\"3 - Tijera\")\n",
        "    \n",
        "    op_us = int(input(\"Escoje un numero: \"))\n",
        "    op_comp = random.randint(1,3)\n",
        "\n",
        "    if(op_us == 1):\n",
        "        print(\"Escojiste piedra.\")\n",
        "        if(op_comp == 1):\n",
        "            print(\"La computadora escogio piedra.\")\n",
        "            print(\"Empate.\")\n",
        "        else:\n",
        "            if(op_comp == 2):\n",
        "                print(\"La computadora escogio papel.\")\n",
        "                print(\"Perdiste.\")\n",
        "            else:\n",
        "                print(\"La computadora escogio tijeras.\")\n",
        "                print(\"Ganaste.\")\n",
        "\n",
        "    elif(op_us == 2):\n",
        "        print(\"Escogiste papel.\")\n",
        "        if(op_comp == 1):\n",
        "            print(\"La computadora escogio piedra.\")\n",
        "            print(\"Ganaste.\")\n",
        "        else:\n",
        "            if(op_comp == 2):\n",
        "                print(\"La computadora escogio papel.\")\n",
        "                print(\"Empate.\")\n",
        "            else:\n",
        "                print(\"La computadora escogio tijeras.\")\n",
        "                print(\"Perdiste.\")\n",
        "\n",
        "    elif(op_us == 3):\n",
        "        print(\"escogiste tijeras.\")\n",
        "        if(op_comp == 1):\n",
        "            print(\"La computadora escogio piedra.\")\n",
        "            print(\"Perdiste.\")\n",
        "        else:\n",
        "            if(op_comp == 2):\n",
        "                print(\"La computadora escogio papel.\")\n",
        "                print(\"Ganaste.\")\n",
        "            else:\n",
        "                print(\"La computadora escogio tijeras.\")\n",
        "                print(\"Empate.\")\n",
        "    \n",
        "    elif(op_us<1 and op_us>3):\n",
        "        print(\"Ingresa un numero del 1-3\")\n",
        "\n",
        "except:\n",
        "    print(\"No ingreses caracteres\")\n"
      ],
      "metadata": {
        "colab": {
          "base_uri": "https://localhost:8080/",
          "height": 0
        },
        "id": "hd0XqEw32jPd",
        "outputId": "ce4968da-d15d-400c-a935-8bdab045895b"
      },
      "execution_count": 17,
      "outputs": [
        {
          "output_type": "stream",
          "name": "stdout",
          "text": [
            "1 - Piedra\n",
            "2 - Papel\n",
            "3 - Tijera\n",
            "Escoje un numero: 2\n",
            "Escogiste papel.\n",
            "La computadora escogio papel.\n",
            "Empate.\n"
          ]
        }
      ]
    },
    {
      "cell_type": "markdown",
      "source": [
        "##6.- Programa en Python que lea 4 números enteros desplegar cuales el menor, cual es mayor"
      ],
      "metadata": {
        "id": "cAWUqhck4Cw0"
      }
    },
    {
      "cell_type": "code",
      "source": [
        "try:\n",
        "    print(\"Ingresa 4 numeros enteros: \")\n",
        "    num1 = int(input(\"primer numero: \"))\n",
        "    num2 = int(input(\"segundo numero: \"))\n",
        "    num3 = int(input(\"Tercer numero: \"))\n",
        "    num4 = int(input(\"Cuarto numero: \"))\n",
        "\n",
        "    print(f\"El numero mayor es: {max(num1, num2, num3, num4)}\")\n",
        "    print(f\"El numero menor es: {min(num1, num2, num3, num4)}\")\n",
        "\n",
        "except:\n",
        "    print(\"no ingreses caracteres\")"
      ],
      "metadata": {
        "colab": {
          "base_uri": "https://localhost:8080/",
          "height": 0
        },
        "id": "Uz7q1KrD4GwT",
        "outputId": "722b0de0-8361-4535-ea9b-dbf8d5cde6a8"
      },
      "execution_count": 18,
      "outputs": [
        {
          "output_type": "stream",
          "name": "stdout",
          "text": [
            "Ingresa 4 numeros enteros: \n",
            "primer numero: 5\n",
            "segundo numero: 6\n",
            "Tercer numero: 8\n",
            "Cuarto numero: 9\n",
            "El numero mayor es: 9\n",
            "El numero menor es: 5\n"
          ]
        }
      ]
    },
    {
      "cell_type": "markdown",
      "source": [
        "##7.- Programa en Python que sirva para calcular el área de un triangulo, los datos de entrada deben ser forzosamente de tipo real"
      ],
      "metadata": {
        "id": "X6g-2enI4je8"
      }
    },
    {
      "cell_type": "code",
      "source": [
        "try:\n",
        "    print(\"Ingresa solo datos en tiempo real\")\n",
        "    b = int(input(\"Ingresa la base del triangulo: \"))\n",
        "    h = int(input(\"Ingresa la altura del triangulo: \"))\n",
        "\n",
        "    area = (b*h) / 2\n",
        "    print(f\"El area del triangulo es: {area}\")\n",
        "\n",
        "except ValueError:\n",
        "    print(\"No ingreses caracteres\")"
      ],
      "metadata": {
        "colab": {
          "base_uri": "https://localhost:8080/",
          "height": 0
        },
        "id": "FBkbUCYN4ltM",
        "outputId": "0d7101e7-3f59-4a28-9ee6-aefb2d59c3ca"
      },
      "execution_count": 19,
      "outputs": [
        {
          "output_type": "stream",
          "name": "stdout",
          "text": [
            "Ingresa solo datos en tiempo real\n",
            "Ingresa la base del triangulo: 52\n",
            "Ingresa la altura del triangulo: 10\n",
            "El area del triangulo es: 260.0\n"
          ]
        }
      ]
    },
    {
      "cell_type": "markdown",
      "source": [
        "##8.- Programa en Python que sirva para calcular el área de un circulo"
      ],
      "metadata": {
        "id": "YJaZst_Q4_C1"
      }
    },
    {
      "cell_type": "code",
      "source": [
        "try:\n",
        "    print(\"Usa centimetros en las unidades\")\n",
        "    rad = float(input(\"Ingresa el radio de el circulo: \"))\n",
        "    \n",
        "    area = 3.1416 * pow(rad,2)\n",
        "    print(f\"El area del circulo es: {round(area,2)} cm^2\")\n",
        "\n",
        "except ValueError:\n",
        "    print(\"No ingreses caracteres\")\n",
        "     "
      ],
      "metadata": {
        "colab": {
          "base_uri": "https://localhost:8080/",
          "height": 0
        },
        "id": "Rx3Gvw1Z5BKu",
        "outputId": "2a198a7d-9df1-4de7-fc50-afb19c0935dd"
      },
      "execution_count": 20,
      "outputs": [
        {
          "output_type": "stream",
          "name": "stdout",
          "text": [
            "Usa centimetros en las unidades\n",
            "Ingresa el radio de el circulo: 100\n",
            "El area del circulo es: 31416.0 cm^2\n"
          ]
        }
      ]
    }
  ]
}