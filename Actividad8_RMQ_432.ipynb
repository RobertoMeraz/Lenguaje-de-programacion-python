{
  "cells": [
    {
      "cell_type": "markdown",
      "metadata": {
        "id": "view-in-github",
        "colab_type": "text"
      },
      "source": [
        "<a href=\"https://colab.research.google.com/github/RobertoMeraz/Lenguaje-de-programacion-python/blob/main/Actividad8_RMQ_432.ipynb\" target=\"_parent\"><img src=\"https://colab.research.google.com/assets/colab-badge.svg\" alt=\"Open In Colab\"/></a>"
      ]
    },
    {
      "cell_type": "code",
      "source": [
        "import random\n",
        "from IPython.utils.path import random\n",
        "from IPython.core.display import clear_output"
      ],
      "metadata": {
        "id": "jhwA79x8TBvA"
      },
      "execution_count": 38,
      "outputs": []
    },
    {
      "cell_type": "code",
      "source": [
        "def numrand():\n",
        "  wins = 0\n",
        "  lost = 0\n",
        "  try:\n",
        "    while True:\n",
        "      num = random.randint(1,10)\n",
        "      print(\"Se ha generado un numero aleatorio del 1 al 10, intenta adivinarlo\")\n",
        "      for intento in range (1,4):\n",
        "        res = int(input(f\"intento {intento}: \"))\n",
        "        if(res == num):\n",
        "          print(\"Felicidades haz acertado :)\")\n",
        "          wins += 1\n",
        "          break\n",
        "        else:\n",
        "          if(intento == 3):\n",
        "            print(f\"Se te acabaron los intentos. El numero era {num}\")\n",
        "            lost += 1\n",
        "          else:\n",
        "            print(\"Sigue intentando\")\n",
        "      continuar = input(\"Deseas seguir jugando? (s/n) : \")\n",
        "      if continuar.lower() != \"s\":\n",
        "        break\n",
        "  except:\n",
        "    print(\"No ingreses caracteres\")\n",
        "  print(f\"Total de victorias : {wins}\")\n",
        "  print(f\"Total de derrotas: {lost}\")"
      ],
      "metadata": {
        "id": "ruyYlHtsvUgk"
      },
      "execution_count": 39,
      "outputs": []
    },
    {
      "cell_type": "code",
      "source": [
        "def lista_A():\n",
        "  lista = []\n",
        "  for i in range (10):\n",
        "    lista.append(0)\n",
        "  i = 1\n",
        "  while True:\n",
        "    posicion = random.randint(0,9)\n",
        "    if lista[posicion] == 0:\n",
        "      lista[posicion] = i\n",
        "      i += 1\n",
        "    else:\n",
        "      continue\n",
        "    if i <= 10:\n",
        "      continue\n",
        "    break\n",
        "  return lista"
      ],
      "metadata": {
        "id": "eT28J5_mSfcH"
      },
      "execution_count": 40,
      "outputs": []
    },
    {
      "cell_type": "code",
      "source": [
        "def lista_B():\n",
        "  lista = []\n",
        "  lista = random.sample(range(1,11),10)\n",
        "  return lista"
      ],
      "metadata": {
        "id": "mITaxx2oTjZy"
      },
      "execution_count": 41,
      "outputs": []
    },
    {
      "cell_type": "code",
      "source": [
        "def lista_C():\n",
        "  lista = list(range(1,11))\n",
        "  random.shuffle(lista)\n",
        "  return lista"
      ],
      "metadata": {
        "id": "Q3VnAbElTwzU"
      },
      "execution_count": 42,
      "outputs": []
    },
    {
      "cell_type": "code",
      "source": [
        "def adivina_pos():\n",
        "  lista = []\n",
        "  op = 1\n",
        "  wins = 0\n",
        "  lost = 0\n",
        "  while op != 2:\n",
        "    clear_output\n",
        "    print(\"1.- Lista random version A\")\n",
        "    print(\"2.- Lista random version B\")\n",
        "    print(\"3.- Lista random version C\")\n",
        "    op = int(input(\"Escoje una de las opciones: \"))\n",
        "    if op == 1:\n",
        "      lista = lista_A()\n",
        "    elif op == 2:\n",
        "      lista = lista_B()\n",
        "    elif op == 3:\n",
        "      lista = lista_C()\n",
        "    posicion_correcta = random.randint(1,10)\n",
        "    adivinar_num = lista[posicion_correcta]\n",
        "    print(f\"El numero que se ha generado es {adivinar_num}, adivina su posicion del 0 al 9\")\n",
        "    pos = int(input(\"Ingresa la posicion donde crees que esta el numero: \"))\n",
        "    if lista [pos] == adivinar_num:\n",
        "      print(\"Felicidades haz acertado\")\n",
        "      print(\" \",end=\"\")\n",
        "      for i in range(10):\n",
        "        print(f\"{i}\", end=\"\")\n",
        "        print(\"\\n\", lista)\n",
        "        wins += 1\n",
        "    else:\n",
        "      print(f\"Fallaste la posicion correcta era {posicion_correcta}\")\n",
        "      print(\" \",end=\"\")\n",
        "      for i in range(10):\n",
        "        print(f\"{i}\",end=\"\")\n",
        "      print(\"\\n\", lista)\n",
        "      lost += 1\n",
        "      if lost == 3:\n",
        "        print(\"Te haz quedado sin intentos\")\n",
        "        break\n",
        "    continuar = input(\"Deseas seguir jugando? (s/n): \")\n",
        "    if continuar.lower() != \"s\":\n",
        "      break\n",
        "  print(f\"Total de victorias: {wins}\")\n",
        "  print(f\"Total de derrotas: {lost}\")\n",
        "\n"
      ],
      "metadata": {
        "id": "zKxyTafuURAV"
      },
      "execution_count": 43,
      "outputs": []
    },
    {
      "cell_type": "code",
      "source": [
        "def menu():\n",
        "  print(\"Bienvenido al menu de juegos\")\n",
        "  print(\"1.- Adivina el numero aleatorio\")\n",
        "  print(\"2.- Adivina la posicion del numero\")\n",
        "  print(\"0.- Salir\")"
      ],
      "metadata": {
        "id": "W_LnuO5fRc5h"
      },
      "execution_count": 44,
      "outputs": []
    },
    {
      "cell_type": "code",
      "source": [
        "while True:\n",
        "  menu()\n",
        "  op = int(input(\"Escoje una de la siguientes opciones para jugar: \"))\n",
        "  if op == 1:\n",
        "    numrand()\n",
        "    input(\"Presiona ENTER para borrar pantalla\")\n",
        "    clear_output()\n",
        "    continue\n",
        "  elif op == 2:\n",
        "    adivina_pos()\n",
        "    print(\"Presiona ENTER para borrar pantalla\")\n",
        "    clear_output()\n",
        "    continue\n",
        "  elif op == 0:\n",
        "    break\n",
        "\n"
      ],
      "metadata": {
        "colab": {
          "base_uri": "https://localhost:8080/"
        },
        "id": "veVoAj2xZxKf",
        "outputId": "c846c47a-e9ed-4f64-a129-806f286348b4"
      },
      "execution_count": 46,
      "outputs": [
        {
          "name": "stdout",
          "output_type": "stream",
          "text": [
            "Bienvenido al menu de juegos\n",
            "1.- Adivina el numero aleatorio\n",
            "2.- Adivina la posicion del numero\n",
            "0.- Salir\n",
            "Escoje una de la siguientes opciones para jugar: 0\n"
          ]
        }
      ]
    }
  ],
  "metadata": {
    "colab": {
      "provenance": [],
      "authorship_tag": "ABX9TyMLOCWntGusYx+iuhpfQ7j+",
      "include_colab_link": true
    },
    "kernelspec": {
      "display_name": "Python 3",
      "name": "python3"
    },
    "language_info": {
      "name": "python"
    }
  },
  "nbformat": 4,
  "nbformat_minor": 0
}