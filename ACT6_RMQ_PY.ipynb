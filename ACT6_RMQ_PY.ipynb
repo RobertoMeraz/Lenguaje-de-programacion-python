{
  "nbformat": 4,
  "nbformat_minor": 0,
  "metadata": {
    "colab": {
      "provenance": [],
      "authorship_tag": "ABX9TyNZ2YyK+MVbill4FMF87bjE",
      "include_colab_link": true
    },
    "kernelspec": {
      "name": "python3",
      "display_name": "Python 3"
    },
    "language_info": {
      "name": "python"
    }
  },
  "cells": [
    {
      "cell_type": "markdown",
      "metadata": {
        "id": "view-in-github",
        "colab_type": "text"
      },
      "source": [
        "<a href=\"https://colab.research.google.com/github/RobertoMeraz/Lenguaje-de-programacion-python/blob/main/ACT6_RMQ_PY.ipynb\" target=\"_parent\"><img src=\"https://colab.research.google.com/assets/colab-badge.svg\" alt=\"Open In Colab\"/></a>"
      ]
    },
    {
      "cell_type": "code",
      "execution_count": 14,
      "metadata": {
        "id": "QXqD4gUTZJDo"
      },
      "outputs": [],
      "source": [
        "from IPython.display import clear_output\n",
        "from random import randint"
      ]
    },
    {
      "cell_type": "code",
      "source": [
        "\n",
        "def vali_num(msg=\"Ingresa un numero \", ri=-32000, rf=32000, msg2=\"Error de rango \", msg3=\"ingresa solo numeros \"):\n",
        "\n",
        "  while True:\n",
        "      try:\n",
        "          num = float(input(msg))\n",
        "      except ValueError:\n",
        "          print(msg3)\n",
        "          continue\n",
        "      if num not in range(ri, rf):\n",
        "          print(msg2)\n",
        "          continue\n",
        "      else:\n",
        "          break\n",
        "\n",
        "  return num"
      ],
      "metadata": {
        "id": "Hogx_HP2Z7Xt"
      },
      "execution_count": 2,
      "outputs": []
    },
    {
      "cell_type": "code",
      "source": [
        "def suma_num():\n",
        "    ri = int(input(\"Ingresa el limite inferior: \"))\n",
        "    rf = int(input(\"Ingresa el limite superior:  \"))\n",
        "\n",
        "    suma = 0\n",
        "    cont = 0\n",
        "    num_mayor = 0\n",
        "    num_menor = 9999\n",
        "    msg = \"ingresa un numero: \" \n",
        "    while(True):\n",
        "        num = vali_num(msg , ri, rf)\n",
        "        suma += num\n",
        "        cont += 1\n",
        "        \n",
        "        if num > num_mayor:\n",
        "                num_mayor = num\n",
        "\n",
        "        if num < num_menor:\n",
        "                num_menor = num\n",
        "                \n",
        "        \n",
        "        seguir = input(\"¿Desea continuar? //Ingresa 1 para si O 0 para no//  \")\n",
        "\n",
        "        if seguir == \"1\":\n",
        "            continue\n",
        "        else:\n",
        "            break\n",
        "\n",
        "    print(f\"Suma de los numeros es: {suma}\\nEl promedio es: {suma / cont}\")\n",
        "    print(f\"El numero mayor es: {num_mayor}\\nEl numero menor es: {num_menor}\")"
      ],
      "metadata": {
        "id": "qf59PTxJaoor"
      },
      "execution_count": 8,
      "outputs": []
    },
    {
      "cell_type": "code",
      "source": [
        "def impares():\n",
        "    suma_par = 0\n",
        "    suma_impar = 0\n",
        "    cont_par = 0\n",
        "    cont_impar = 0\n",
        "    \n",
        "    for i in range(25):\n",
        "        num = randint(10, 60)\n",
        "\n",
        "        if num%2 == 0:\n",
        "            cont_par += 1\n",
        "            suma_par += num\n",
        "            print(f\"{num} -- Par #{cont_par}\")\n",
        "        else:\n",
        "            cont_impar += 1\n",
        "            suma_impar += num\n",
        "            print(f\"{num} -- Impar#{cont_impar}\")\n",
        "\n",
        "            if cont_impar == 15:\n",
        "                break\n",
        "\n",
        "    print(f\"Media de pares: {suma_par / cont_par}\")\n",
        "    print(f\"Media de impares: {suma_impar / cont_impar}\")"
      ],
      "metadata": {
        "id": "myImNyhjbJcv"
      },
      "execution_count": 7,
      "outputs": []
    },
    {
      "cell_type": "code",
      "source": [
        "def validar_rango():  \n",
        "  def vali_rango(min=0, max=0):\n",
        "      cont = 0\n",
        "      suma = 0\n",
        "      msg = \"Ingresa un numero: \" \n",
        "      while(True):\n",
        "          num = vali_num(msg, min, max)\n",
        "\n",
        "          if num in range(min, max):\n",
        "              suma += num\n",
        "              cont += 1\n",
        "              seguir = input(\"Numero validado, ¿Desea continuar? //Ingresa 1 para si O 0 para no//: \")\n",
        "\n",
        "              if seguir == \"1\":\n",
        "                  continue\n",
        "              else:\n",
        "                  break\n",
        "          else:\n",
        "              seguir = input(\"El numero no esta dentro del rango, ¿Desea continuar? //Ingresa 1 para si O 0 para no//: \")\n",
        "\n",
        "              if seguir == \"1\":\n",
        "                  continue\n",
        "              else:\n",
        "                  break\n",
        "\n",
        "      print(f\"La cantidad de numeros validados es de: {cont}\")\n",
        "      print(f\"La media de los numeros validados es de: {suma / cont}\")\n",
        "\n",
        "  min = int(input(\"Ingresa el numero minimo del rango: \"))\n",
        "  max = int(input(\"Ingresa el numero maximo del rango: \"))\n",
        "  vali_rango(min, max)"
      ],
      "metadata": {
        "id": "6VWTe8wUbiQq"
      },
      "execution_count": 9,
      "outputs": []
    },
    {
      "cell_type": "code",
      "source": [
        "def triangulo(): \n",
        "  def area_triangulo(b, h):\n",
        "      area = (b * h) / 2\n",
        "\n",
        "      return print(f\"El area del triangulo es: {area}\")\n",
        "\n",
        "  msg = \"Ingresa el valor de la base: \"\n",
        "  base = vali_num(msg)\n",
        "  msg = \"Ingresa el valor de la altura: \"\n",
        "  altura = vali_num(msg)\n",
        "\n",
        "  area_triangulo(b, h)"
      ],
      "metadata": {
        "id": "VBZZez5wevsw"
      },
      "execution_count": 10,
      "outputs": []
    },
    {
      "cell_type": "code",
      "source": [
        "def aprobar():\n",
        "    intento = 0\n",
        "    msg = \"Ingresa el promedio de la materia: \"\n",
        "    while (True):\n",
        "        prom = vali_num(msg, 0, 100)\n",
        "        if prom >= 60:\n",
        "            print(\"pasaste\")\n",
        "            break\n",
        "        else:\n",
        "            intento += 1\n",
        "            if intento != 3:\n",
        "               print(\"repetira la materia\")\n",
        "            else:\n",
        "               print(\"Reprobaste 3 veces, baja academica\")\n",
        "               break"
      ],
      "metadata": {
        "id": "gvTBaMlUgDii"
      },
      "execution_count": 13,
      "outputs": []
    },
    {
      "cell_type": "code",
      "source": [
        "def menu():\n",
        "    print(\"1.- Suma de numeros\")\n",
        "    print(\"2.- Numeros impares\")\n",
        "    print(\"3.- Ingreso de rango\")\n",
        "    print(\"4.- Area de triangulo\")\n",
        "    print(\"5.- Ingresar promedio\")\n",
        "    print(\"0.- Salir\")"
      ],
      "metadata": {
        "id": "A0qS2x0wgNEA"
      },
      "execution_count": 16,
      "outputs": []
    },
    {
      "cell_type": "code",
      "source": [
        "while True:\n",
        "      menu()\n",
        "      try:\n",
        "          opcion = int(input(\"¿Que funcion desea a utilizar?: \"))\n",
        "      except ValueError:\n",
        "          print(\"Ingresa solo numeros\")\n",
        "      \n",
        "      if opcion == 1:\n",
        "            clear_output()\n",
        "            suma_num()\n",
        "            input(\"Presiona enter para borrar pantalla\")\n",
        "            clear_output()\n",
        "      elif opcion == 2:\n",
        "            clear_output()\n",
        "            impares()\n",
        "            input(\"Presiona enter para borrar pantalla\")\n",
        "            clear_output()\n",
        "      elif opcion == 3:\n",
        "            clear_output()\n",
        "            validar_rango()\n",
        "            input(\"Presiona cualquier tecla para borrar pantalla\")\n",
        "            clear_output()\n",
        "      elif opcion == 4:\n",
        "            clear_output()\n",
        "            triangulo()\n",
        "            input(\"Presiona enter para borrar pantalla\")\n",
        "            clear_output()\n",
        "      elif opcion == 5:\n",
        "            clear_output()\n",
        "            aprobar()\n",
        "            input(\"Presiona enter para borrar pantalla\")\n",
        "            clear_output()\n",
        "      elif opcion == 0:\n",
        "            print(\"Gracias por participar\")\n",
        "            break"
      ],
      "metadata": {
        "colab": {
          "base_uri": "https://localhost:8080/"
        },
        "id": "sIICOZl3gc2T",
        "outputId": "c1a39f55-36c5-4dfd-e897-b568ae58d13b"
      },
      "execution_count": 23,
      "outputs": [
        {
          "output_type": "stream",
          "name": "stdout",
          "text": [
            "1.- Suma de numeros\n",
            "2.- Numeros impares\n",
            "3.- Ingreso de rango\n",
            "4.- Area de triangulo\n",
            "5.- Ingresar promedio\n",
            "0.- Salir\n",
            "¿Que funcion desea a utilizar?: 0\n",
            "Gracias por participar\n"
          ]
        }
      ]
    }
  ]
}