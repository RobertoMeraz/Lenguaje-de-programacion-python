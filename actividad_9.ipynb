{
  "nbformat": 4,
  "nbformat_minor": 0,
  "metadata": {
    "colab": {
      "provenance": [],
      "authorship_tag": "ABX9TyMbLfDK4Ge84Jn2LcEsM2Qv",
      "include_colab_link": true
    },
    "kernelspec": {
      "name": "python3",
      "display_name": "Python 3"
    },
    "language_info": {
      "name": "python"
    }
  },
  "cells": [
    {
      "cell_type": "markdown",
      "metadata": {
        "id": "view-in-github",
        "colab_type": "text"
      },
      "source": [
        "<a href=\"https://colab.research.google.com/github/RobertoMeraz/Lenguaje-de-programacion-python/blob/main/actividad_9.ipynb\" target=\"_parent\"><img src=\"https://colab.research.google.com/assets/colab-badge.svg\" alt=\"Open In Colab\"/></a>"
      ]
    },
    {
      "cell_type": "code",
      "execution_count": 7,
      "metadata": {
        "id": "lyhwaZPxEWAf"
      },
      "outputs": [],
      "source": [
        "from IPython.display import clear_output\n",
        "import random"
      ]
    },
    {
      "cell_type": "code",
      "source": [
        "def gen_dic():\n",
        "  reg = [\"Matricula\", \"Nombre\", \"Apellido Paterno\", \"Apellido Materno\", \"Edad, Sexo\"]\n",
        "  matri = [369754,369854,354788,39641,369635,32277]\n",
        "  nombres = [\"Gael\", \"Daniel\", \"Oscar\", \"Osvaldo\", \"Melvin\", \"Roberto\"]\n",
        "  appat = [\"Calderon\",\"Garcia\", \"Pulido\",\"Marron\",\"Medina\",\"Meraz\"]\n",
        "  apmat = [\"Moreno\", \"Jimenez\", \"Gomez\", \"Rivas\",\"Zambrano\", \"Quintero\"]\n",
        "  edad = [18,19,20,21,22,23,24,25,26]\n",
        "  sexo = [\"H\",\"H\",\"M\",\"H\",\"M\",\"H\"]\n",
        "  numrand=random.randint(0,5)\n",
        "  dic = dict(zip(reg,[matri[numrand],nombres[numrand],appat[numrand],apmat[numrand],edad[numrand],sexo[numrand]]))\n",
        "  print(\"Se creo el directorio\")\n",
        "  return dic"
      ],
      "metadata": {
        "id": "lZ79_x3BE8NU"
      },
      "execution_count": 39,
      "outputs": []
    },
    {
      "cell_type": "code",
      "source": [
        "def imprimir_dic():\n",
        "  print(dic)\n"
      ],
      "metadata": {
        "id": "rcK3i88mIor8"
      },
      "execution_count": 37,
      "outputs": []
    },
    {
      "cell_type": "code",
      "source": [
        "def menu():\n",
        "  print(\"\\nSeleciona una de las siguientes opciones\\n\")\n",
        "  print(\"\\n 1.- Crear un diccionario \\n\")\n",
        "  print(\"\\n 2.- Imprimir diccionario \\n\")\n",
        "  print(\"\\n 0.- Salir \\n\")"
      ],
      "metadata": {
        "id": "D6yxTa0tJ5Yz"
      },
      "execution_count": 9,
      "outputs": []
    },
    {
      "cell_type": "code",
      "source": [
        "while True:\n",
        "  menu()\n",
        "  op = int(input(\"Ingresa la opcion: \"))\n",
        "  if op == 1:\n",
        "    dic = gen_dic()\n",
        "    input(\"Presiona cualquier tecla para borrar pantalla: \")\n",
        "    clear_output()\n",
        "    continue\n",
        "  elif op == 2:\n",
        "    \n",
        "    imprimir_dic()\n",
        "    input(\"Presiona cualquier tecla para borrar pantalla: \")\n",
        "    clear_output()\n",
        "    continue\n",
        "  elif op == 0:\n",
        "    break"
      ],
      "metadata": {
        "colab": {
          "base_uri": "https://localhost:8080/"
        },
        "id": "4alw7o6PKbjQ",
        "outputId": "0f911451-0530-46bb-8e04-1fc0dcd14d28"
      },
      "execution_count": 42,
      "outputs": [
        {
          "name": "stdout",
          "output_type": "stream",
          "text": [
            "\n",
            "Seleciona una de las siguientes opciones\n",
            "\n",
            "\n",
            " 1.- Crear un diccionario \n",
            "\n",
            "\n",
            " 2.- Imprimir diccionario \n",
            "\n",
            "\n",
            " 0.- Salir \n",
            "\n",
            "Ingresa la opcion: 0\n"
          ]
        }
      ]
    },
    {
      "cell_type": "markdown",
      "source": [],
      "metadata": {
        "id": "WJnF5y6hKxsA"
      }
    }
  ]
}