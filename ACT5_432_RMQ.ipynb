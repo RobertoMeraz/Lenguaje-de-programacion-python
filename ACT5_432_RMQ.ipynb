{
  "nbformat": 4,
  "nbformat_minor": 0,
  "metadata": {
    "colab": {
      "provenance": [],
      "authorship_tag": "ABX9TyO9R7rLsCsN8lCZsNqkNsak",
      "include_colab_link": true
    },
    "kernelspec": {
      "name": "python3",
      "display_name": "Python 3"
    },
    "language_info": {
      "name": "python"
    }
  },
  "cells": [
    {
      "cell_type": "markdown",
      "metadata": {
        "id": "view-in-github",
        "colab_type": "text"
      },
      "source": [
        "<a href=\"https://colab.research.google.com/github/RobertoMeraz/Lenguaje-de-programacion-python/blob/main/ACT5_432_RMQ.ipynb\" target=\"_parent\"><img src=\"https://colab.research.google.com/assets/colab-badge.svg\" alt=\"Open In Colab\"/></a>"
      ]
    },
    {
      "cell_type": "markdown",
      "source": [
        "#Parte 1"
      ],
      "metadata": {
        "id": "mwAGKqU9QksR"
      }
    },
    {
      "cell_type": "markdown",
      "source": [
        "##1.- Programa en Python que genere 40 números aleatorios entre el 0 y 200, desplegar los números y la leyenda de cada número si es par o impar , la cantidad de los números pares e impares así como la suma de los números pares o impares."
      ],
      "metadata": {
        "id": "WdZqCEY3QoFG"
      }
    },
    {
      "cell_type": "code",
      "execution_count": null,
      "metadata": {
        "colab": {
          "base_uri": "https://localhost:8080/"
        },
        "id": "5J98ejI8QKhY",
        "outputId": "d39f361a-a84c-4911-8f53-182a684f64c7"
      },
      "outputs": [
        {
          "output_type": "stream",
          "name": "stdout",
          "text": [
            "1 = 76 es par\n",
            "2 = 7 es impar\n",
            "3 = 137 es impar\n",
            "4 = 82 es par\n",
            "5 = 187 es impar\n",
            "6 = 136 es par\n",
            "7 = 112 es par\n",
            "8 = 193 es impar\n",
            "9 = 42 es par\n",
            "10 = 183 es impar\n",
            "11 = 200 es par\n",
            "12 = 86 es par\n",
            "13 = 71 es impar\n",
            "14 = 12 es par\n",
            "15 = 170 es par\n",
            "16 = 36 es par\n",
            "17 = 104 es par\n",
            "18 = 12 es par\n",
            "19 = 138 es par\n",
            "20 = 62 es par\n",
            "21 = 2 es par\n",
            "22 = 68 es par\n",
            "23 = 122 es par\n",
            "24 = 37 es impar\n",
            "25 = 70 es par\n",
            "26 = 57 es impar\n",
            "27 = 181 es impar\n",
            "28 = 118 es par\n",
            "29 = 2 es par\n",
            "30 = 3 es impar\n",
            "31 = 26 es par\n",
            "32 = 129 es impar\n",
            "33 = 45 es impar\n",
            "34 = 68 es par\n",
            "35 = 179 es impar\n",
            "36 = 32 es par\n",
            "37 = 17 es impar\n",
            "38 = 89 es impar\n",
            "39 = 176 es par\n",
            "40 = 96 es par\n",
            "\n",
            "La suma de los numeros pares es: 2048\n",
            "La suma de los numeros impares es: 1515\n"
          ]
        }
      ],
      "source": [
        "import random\n",
        "sum_par = 0\n",
        "sum_impar = 0\n",
        "for i in range(1, 41, 1):\n",
        "    num = random.randint(0, 200)\n",
        "    if num%2 == 0:\n",
        "        print(f\"{i} = {num} es par\")\n",
        "        sum_par = sum_par + num\n",
        "    else:\n",
        "        print(f\"{i} = {num} es impar\")\n",
        "        sum_impar = sum_impar + num\n",
        "        \n",
        "print(f\"\\nLa suma de los numeros pares es: {sum_par}\")\n",
        "print(f\"La suma de los numeros impares es: {sum_impar}\")"
      ]
    },
    {
      "cell_type": "markdown",
      "source": [
        "##2.- Programa en Python que despliegue la tabla de multiplicar de un número dado (número entre el 1 y 20)."
      ],
      "metadata": {
        "id": "7AQ-2xzpQ6xE"
      }
    },
    {
      "cell_type": "code",
      "source": [
        "try:\n",
        "    num = int(input(\"Ingresa un numero entero entre el 1 y el 20: \"))\n",
        "    if num >= 1 and num <= 20:\n",
        "        for i in range(0, 10, 1):\n",
        "            print(f\"{num} * {i+1} = {num * (i+1)}\")\n",
        "    else:\n",
        "        print(\"Solo numeros entre el 1 y 20\")\n",
        "        \n",
        "except ValueError:\n",
        "    print(\"No ingreses caracteres\")"
      ],
      "metadata": {
        "colab": {
          "base_uri": "https://localhost:8080/"
        },
        "id": "bX6Qp8qgQ9lI",
        "outputId": "78eb217c-ecca-467c-823a-b7ed874b3322"
      },
      "execution_count": null,
      "outputs": [
        {
          "output_type": "stream",
          "name": "stdout",
          "text": [
            "Ingresa un numero entero entre el 1 y el 20: 5\n",
            "5 * 1 = 5\n",
            "5 * 2 = 10\n",
            "5 * 3 = 15\n",
            "5 * 4 = 20\n",
            "5 * 5 = 25\n",
            "5 * 6 = 30\n",
            "5 * 7 = 35\n",
            "5 * 8 = 40\n",
            "5 * 9 = 45\n",
            "5 * 10 = 50\n"
          ]
        }
      ]
    },
    {
      "cell_type": "markdown",
      "source": [
        "##3.- Programa en Python que lea una calificación, las calificación deberá estar en el rango de 0 a 100, si hay un error de captura, mostrar mensaje de error. con la calificación correcta mostrar msg de aprobado reprobado."
      ],
      "metadata": {
        "id": "K0nSMzeURPQi"
      }
    },
    {
      "cell_type": "code",
      "source": [
        "try:\n",
        "    cal_f = float(input(\"Ingresa tu calificacion final: \"))\n",
        "    if cal_f >= 60:\n",
        "        print(\"Aprobado\")\n",
        "    else:\n",
        "        print(\"Reprobado\")\n",
        "except ValueError:\n",
        "    print(\"No ingreses caracteres\")"
      ],
      "metadata": {
        "colab": {
          "base_uri": "https://localhost:8080/"
        },
        "id": "WAsu8ZvvRRu5",
        "outputId": "fb42bce8-11a9-4d3e-ee45-ebc979e63832"
      },
      "execution_count": null,
      "outputs": [
        {
          "output_type": "stream",
          "name": "stdout",
          "text": [
            "Ingresa tu calificacion final: 60\n",
            "Aprobado\n"
          ]
        }
      ]
    },
    {
      "cell_type": "markdown",
      "source": [
        "##4.- Programa en Python que lea n cantidad de números enteros dentro de un rango dado (> 0 ) , el programa deberá terminar cuando el usuario introduzca el número cero.\n",
        "\n",
        "##desplegar la suma de números y la media."
      ],
      "metadata": {
        "id": "1EDvyBMSRlnl"
      }
    },
    {
      "cell_type": "code",
      "source": [
        "1sum = 0\n",
        "cont = 0\n",
        "\n",
        "while (True):\n",
        "    num = int(input(\"Ingresa un numero o ingresa el numero 0 para salir: \"))\n",
        "    sum += num\n",
        "    cont += 1\n",
        "\n",
        "    if num == 0:\n",
        "        break\n",
        "\n",
        "print(f\"La suma es: {sum}\\n y la media es: {sum / (cont-1)}\")"
      ],
      "metadata": {
        "colab": {
          "base_uri": "https://localhost:8080/"
        },
        "id": "y8yLPFkYRqK7",
        "outputId": "67d7b06e-ac48-41f8-8a99-4f4d8603e795"
      },
      "execution_count": null,
      "outputs": [
        {
          "output_type": "stream",
          "name": "stdout",
          "text": [
            "Ingresa un numero o ingresa el numero 0 para salir: 50\n",
            "Ingresa un numero o ingresa el numero 0 para salir: 20\n",
            "Ingresa un numero o ingresa el numero 0 para salir: 200\n",
            "Ingresa un numero o ingresa el numero 0 para salir: 100\n",
            "Ingresa un numero o ingresa el numero 0 para salir: 11\n",
            "Ingresa un numero o ingresa el numero 0 para salir: 0\n",
            "La suma es: 381\n",
            " y la media es: 76.2\n"
          ]
        }
      ]
    },
    {
      "cell_type": "markdown",
      "source": [
        "##5.- Programa en Python que sirva para leer el promedio de una materia. donde el usuario tendrá un máximo de 3 oportunidades de cursar la materia, si el promedio es aprobado, felicitarlo y continuar el siguiente semestre, si promedio es reprobado deberá salir mensaje de repetir materia o es baja académica si ha reprobado 3 veces. "
      ],
      "metadata": {
        "id": "tKOxRA5USrU2"
      }
    },
    {
      "cell_type": "code",
      "source": [
        "oportunidad = 0\n",
        "while (True):\n",
        "    prom = float(input(\"Ingresa el promedio de la materia: \"))\n",
        "    if prom >= 60:\n",
        "        print(\"Aprobaste\")\n",
        "        break\n",
        "    else:\n",
        "        oportunidad += 1\n",
        "        if oportunidad != 3:\n",
        "            print(\"Repertiras la materia\")\n",
        "        else:\n",
        "            print(\"Baja academica\")\n",
        "            break"
      ],
      "metadata": {
        "id": "wnxaxjMnSvcy",
        "colab": {
          "base_uri": "https://localhost:8080/"
        },
        "outputId": "93519cc7-9084-482a-cd4a-eec7f1f67122"
      },
      "execution_count": 2,
      "outputs": [
        {
          "output_type": "stream",
          "name": "stdout",
          "text": [
            "Ingresa el promedio de la materia: 60\n",
            "Aprobaste\n"
          ]
        }
      ]
    },
    {
      "cell_type": "markdown",
      "source": [
        "#Parte 2"
      ],
      "metadata": {
        "id": "ebDu-kpVTVF7"
      }
    },
    {
      "cell_type": "markdown",
      "source": [
        "##1.- función que lea n cantidad de números hasta que el usuario lo desee, desplegar la suma de los números, media y valor de los números mayores y menores."
      ],
      "metadata": {
        "id": "pgZutiHVTWYD"
      }
    },
    {
      "cell_type": "code",
      "source": [
        "def operaciones():\n",
        "  num = int(input(\"Ingresa un numero: \"))\n",
        "  sum = 0\n",
        "  cont = 0\n",
        "  num_mayor = num\n",
        "  num_menor = num\n",
        "\n",
        "  while(True):\n",
        "      sum += num\n",
        "      cont += 1\n",
        "      seguir = input(\".¿Desea continuar? Ingresa 1 para si y 0 para no: \")\n",
        "\n",
        "      if seguir == \"1\":\n",
        "          num = int(input(\"Ingresa otro numero: \"))\n",
        "          if num > num_mayor:\n",
        "              num_mayor = num\n",
        "          elif num < num_menor:\n",
        "              num_menor = num\n",
        "      else:\n",
        "          break\n",
        "\n",
        "  print(f\"Suma de los numeros: {sum}\\nLa media es: {sum / cont}\")\n",
        "  print(f\"El numero mayor es: {num_mayor}\\nEl numero menor es: {num_menor}\")\n",
        "\n",
        "operaciones()     \n"
      ],
      "metadata": {
        "id": "cIi3vwsZTlUk",
        "colab": {
          "base_uri": "https://localhost:8080/"
        },
        "outputId": "acbe28e8-ba57-4d98-8e6c-c32e63d901cf"
      },
      "execution_count": 3,
      "outputs": [
        {
          "output_type": "stream",
          "name": "stdout",
          "text": [
            "Ingresa un numero: 50\n",
            ".¿Desea continuar? Ingresa 1 para si y 0 para no: 1\n",
            "Ingresa otro numero: 100\n",
            ".¿Desea continuar? Ingresa 1 para si y 0 para no: 1\n",
            "Ingresa otro numero: 20\n",
            ".¿Desea continuar? Ingresa 1 para si y 0 para no: 1\n",
            "Ingresa otro numero: 30\n",
            ".¿Desea continuar? Ingresa 1 para si y 0 para no: 0\n",
            "Suma de los numeros: 200\n",
            "La media es: 50.0\n",
            "El numero mayor es: 100\n",
            "El numero menor es: 20\n"
          ]
        }
      ]
    },
    {
      "cell_type": "markdown",
      "source": [
        "##2.- función que genere 15 números impares entre 10 y 60 o máximo de 25 números. desplegar la media de los pares y media de impares."
      ],
      "metadata": {
        "id": "mxJTpljGVDOB"
      }
    },
    {
      "cell_type": "code",
      "source": [
        "from random import randint\n",
        "\n",
        "def impares():\n",
        "    sum_par = 0\n",
        "    sum_impar = 0\n",
        "    cont_par = 0\n",
        "    cont_impar = 0\n",
        "    \n",
        "    for i in range(25):\n",
        "        num = randint(10, 60)\n",
        "\n",
        "        if num%2 == 0:\n",
        "            cont_par += 1\n",
        "            sum_par += num\n",
        "            print(f\"{num} -- Par #{cont_par}\")\n",
        "        else:\n",
        "            cont_impar += 1\n",
        "            sum_impar += num\n",
        "            print(f\"{num} -- Impar#{cont_impar}\")\n",
        "\n",
        "            if cont_impar == 15:\n",
        "                break\n",
        "\n",
        "    print(f\"La media de los numeros pares es: {sum_par / cont_par}\")\n",
        "    print(f\"La media de los numeros impares es: {sum_impar / cont_impar}\")\n",
        "\n",
        "impares()"
      ],
      "metadata": {
        "colab": {
          "base_uri": "https://localhost:8080/"
        },
        "id": "WnlpFnFBVGTb",
        "outputId": "d9596ec6-e52c-4253-a7b7-b87620ab6a49"
      },
      "execution_count": null,
      "outputs": [
        {
          "output_type": "stream",
          "name": "stdout",
          "text": [
            "24 -- Par #1\n",
            "46 -- Par #2\n",
            "58 -- Par #3\n",
            "42 -- Par #4\n",
            "31 -- Impar#1\n",
            "25 -- Impar#2\n",
            "47 -- Impar#3\n",
            "52 -- Par #5\n",
            "10 -- Par #6\n",
            "19 -- Impar#4\n",
            "31 -- Impar#5\n",
            "44 -- Par #7\n",
            "30 -- Par #8\n",
            "48 -- Par #9\n",
            "18 -- Par #10\n",
            "52 -- Par #11\n",
            "21 -- Impar#6\n",
            "31 -- Impar#7\n",
            "55 -- Impar#8\n",
            "25 -- Impar#9\n",
            "18 -- Par #12\n",
            "22 -- Par #13\n",
            "30 -- Par #14\n",
            "49 -- Impar#10\n",
            "24 -- Par #15\n",
            "La media de los numeros pares es: 34.53333333333333\n",
            "La media de los numeros impares es: 33.4\n"
          ]
        }
      ]
    },
    {
      "cell_type": "markdown",
      "source": [
        "##3.- función que sirva para leer y validar un número dentro de un rango dado por el usuario. repetir esta acción hasta que el usuario lo desee, desplegar cantidad de números y promedio de los números.."
      ],
      "metadata": {
        "id": "r1xuXRUOVjy8"
      }
    },
    {
      "cell_type": "code",
      "source": [
        "def rango(min, max):\n",
        "    cont = 0\n",
        "    sum = 0\n",
        "    num = int(input(\"Ingresa un numero para validar: \"))\n",
        "\n",
        "    while(True):\n",
        "        if num in range(min, max):\n",
        "            sum += num\n",
        "            cont += 1\n",
        "            seguir = input(\"El numero fue validado, ¿Deseas continuar? Ingresa 1 para si y 0 para no: \")\n",
        "\n",
        "            if seguir == \"1\":\n",
        "                num = int(input(\"Ingresa otro numero para validar: \"))\n",
        "            else:\n",
        "                break\n",
        "        else:\n",
        "            seguir = input(\"El numero fue validado, ¿Deseas continuar? Ingresa 1 para si y 0 para no: \")\n",
        "\n",
        "            if seguir == \"1\":\n",
        "                num = int(input(\"Ingresa otro numero para validar: \"))\n",
        "            else:\n",
        "                break\n",
        "\n",
        "    print(f\"El total de numeros validados es: {cont}\")\n",
        "    print(f\"La media de los numeros validados es de: {sum / cont}\")\n",
        "\n",
        "min = int(input(\"Ingresa el numero minimo del rango: \"))\n",
        "max = int(input(\"Ingresa el numero maximo del rango: \"))\n",
        "rango(min, max)"
      ],
      "metadata": {
        "id": "PpSiX-P2VmN2",
        "colab": {
          "base_uri": "https://localhost:8080/"
        },
        "outputId": "b317a0fa-1fb0-4cad-9edd-e3abac3eec43"
      },
      "execution_count": 4,
      "outputs": [
        {
          "output_type": "stream",
          "name": "stdout",
          "text": [
            "Ingresa el numero minimo del rango: 1\n",
            "Ingresa el numero maximo del rango: 100\n",
            "Ingresa un numero para validar: 20\n",
            "El numero fue validado, ¿Deseas continuar? Ingresa 1 para si y 0 para no: 1\n",
            "Ingresa otro numero para validar: 20\n",
            "El numero fue validado, ¿Deseas continuar? Ingresa 1 para si y 0 para no: 1\n",
            "Ingresa otro numero para validar: 65\n",
            "El numero fue validado, ¿Deseas continuar? Ingresa 1 para si y 0 para no: 0\n",
            "El total de numeros validados es: 3\n",
            "La media de los numeros validados es de: 35.0\n"
          ]
        }
      ]
    },
    {
      "cell_type": "markdown",
      "source": [
        "##4.- función que reciba como parámetro los valores para el área de un triángulo y retorne su resultado"
      ],
      "metadata": {
        "id": "MhX6szDnWfeF"
      }
    },
    {
      "cell_type": "code",
      "source": [
        "\n",
        "def area_triangulo(b, h):\n",
        "    area = (b * h) / 2\n",
        "\n",
        "    return print(f\"El area del triangulo es: {area}\")\n",
        "\n",
        "b = float(input(\"Ingresa el valor de la base: \"))\n",
        "h = float(input(\"Ingresa el valor de la altura: \"))\n",
        "\n",
        "area_triangulo(b, h)\n"
      ],
      "metadata": {
        "colab": {
          "base_uri": "https://localhost:8080/"
        },
        "id": "rLuRsG_TWiog",
        "outputId": "8def3bc0-f6da-4f62-efe1-086757666de2"
      },
      "execution_count": null,
      "outputs": [
        {
          "output_type": "stream",
          "name": "stdout",
          "text": [
            "Ingresa el valor de la base: 10\n",
            "Ingresa el valor de la altura: 50\n",
            "El area del triangulo es: 250.0\n"
          ]
        }
      ]
    },
    {
      "cell_type": "markdown",
      "source": [
        "##5.- función que sirva para validar un número dentro de un rango dado."
      ],
      "metadata": {
        "id": "AAPFgsJZW2OY"
      }
    },
    {
      "cell_type": "code",
      "source": [
        "def validar(min, max):\n",
        "    num = int(input(\"Ingresa un numero para validar: \"))\n",
        "    if num in range(min, max):\n",
        "        print(\"El numero esta dentro del rango\")\n",
        "    else:\n",
        "        print(\"El numero no esta dentro del rango\")\n",
        "\n",
        "min = int(input(\"Ingresa el valor minimo del rango: \"))\n",
        "max = int(input(\"Ingresa el valor maximo del rango: \"))\n",
        "validar(min, max)"
      ],
      "metadata": {
        "colab": {
          "base_uri": "https://localhost:8080/"
        },
        "id": "6WX9NCMlW4dt",
        "outputId": "d9612f1d-de23-43e8-abc0-037238578e77"
      },
      "execution_count": null,
      "outputs": [
        {
          "output_type": "stream",
          "name": "stdout",
          "text": [
            "Ingresa el valor minimo del rango: 5\n",
            "Ingresa el valor maximo del rango: 10\n",
            "Ingresa un numero para validar: 11\n",
            "El numero no esta dentro del rango\n"
          ]
        }
      ]
    }
  ]
}