{
  "nbformat": 4,
  "nbformat_minor": 0,
  "metadata": {
    "colab": {
      "provenance": [],
      "authorship_tag": "ABX9TyN9LEKo6QXQ3njyC6+Tm/DM",
      "include_colab_link": true
    },
    "kernelspec": {
      "name": "python3",
      "display_name": "Python 3"
    },
    "language_info": {
      "name": "python"
    }
  },
  "cells": [
    {
      "cell_type": "markdown",
      "metadata": {
        "id": "view-in-github",
        "colab_type": "text"
      },
      "source": [
        "<a href=\"https://colab.research.google.com/github/RobertoMeraz/Lenguaje-de-programacion-python/blob/main/Actividad_1.ipynb\" target=\"_parent\"><img src=\"https://colab.research.google.com/assets/colab-badge.svg\" alt=\"Open In Colab\"/></a>"
      ]
    },
    {
      "cell_type": "markdown",
      "source": [
        "#Actividad 1\n",
        "#Hecho por: Roberto Meraz Quintero\n",
        "#Solicitado por: Pedro Nuñez Yepiz"
      ],
      "metadata": {
        "id": "i4hNqgNsWDoW"
      }
    },
    {
      "cell_type": "code",
      "execution_count": 14,
      "metadata": {
        "colab": {
          "base_uri": "https://localhost:8080/"
        },
        "id": "VhCW7VMqWAk-",
        "outputId": "18690659-ffdf-429d-f974-8eaccffb4143"
      },
      "outputs": [
        {
          "output_type": "stream",
          "name": "stdout",
          "text": [
            "Hola mundo\n"
          ]
        }
      ],
      "source": [
        "# @title codigo 1\n",
        "print (\"Hola \", end=\"\")\n",
        "print(\"mundo\")"
      ]
    },
    {
      "cell_type": "code",
      "source": [
        "# @title codigo 2\n",
        "num1 = int(input(\"Introduce un numero \"))\n",
        "num2 = int(input(\"Introduce un numero \"))\n",
        "suma= num1+num2\n",
        "print (num1, \"+\", num2, \"=\", suma)"
      ],
      "metadata": {
        "colab": {
          "base_uri": "https://localhost:8080/"
        },
        "id": "ksCMt0DmXPn6",
        "outputId": "ff7a5a64-c677-40b5-c9ae-5c609870ae75"
      },
      "execution_count": 2,
      "outputs": [
        {
          "output_type": "stream",
          "name": "stdout",
          "text": [
            "Introduce un numero 2\n",
            "Introduce un numero 3\n",
            "2 + 3 = 5\n"
          ]
        }
      ]
    },
    {
      "cell_type": "code",
      "source": [
        "# @title codigo 3\n",
        "num1 = int(input(\"Introduce un numero \"))\n",
        "num2 = int(input(\"Introduce un numero \"))\n",
        "suma= num1+num2\n",
        "resta= num1-num2\n",
        "multiplicacion= num1*num2\n",
        "division= num1/num2\n",
        "print (num1, \"+\", num2, \"=\", suma)\n",
        "print (num1, \"-\", num2, \"=\", resta)\n",
        "print (num1, \"*\", num2, \"=\", multiplicacion)\n",
        "print (num1, \"/\", num2, \"=\", division)"
      ],
      "metadata": {
        "colab": {
          "base_uri": "https://localhost:8080/"
        },
        "id": "pshT3fHkcZc8",
        "outputId": "afdea57c-072a-409c-b8d4-e0ce18dd6e4c"
      },
      "execution_count": 3,
      "outputs": [
        {
          "output_type": "stream",
          "name": "stdout",
          "text": [
            "Introduce un numero 2\n",
            "Introduce un numero 3\n",
            "2 + 3 = 5\n",
            "2 - 3 = -1\n",
            "2 * 3 = 6\n",
            "2 / 3 = 0.6666666666666666\n"
          ]
        }
      ]
    },
    {
      "cell_type": "code",
      "source": [
        "# @title codigo 4\n",
        "base = int(input(\"Introduce la base del triangulo \"))\n",
        "altura = int(input(\"Introduce la altura del triangulo \"))\n",
        "area= (base*altura)/2\n",
        "print (\"El area del triangulo es:\", area, \"unidades cuadradas\")"
      ],
      "metadata": {
        "colab": {
          "base_uri": "https://localhost:8080/"
        },
        "id": "RTDk2h4Dd0Av",
        "outputId": "7879dc1c-a071-404c-fc42-196f8bfdc0a1"
      },
      "execution_count": 6,
      "outputs": [
        {
          "output_type": "stream",
          "name": "stdout",
          "text": [
            "Introduce la base del triangulo 50\n",
            "Introduce la altura del triangulo 60\n",
            "El area del triangulo es: 1500.0 unidades cuadradas\n"
          ]
        }
      ]
    },
    {
      "cell_type": "code",
      "source": [
        "# @title codigo 5\n",
        "cent= int(input(\"ingresa un cantidad en centimetros \"))\n",
        "pulg = cent/2.54\n",
        "ft = cent/30.48\n",
        "print (cent, \"centimetros son:\", ft,\"pies\")\n",
        "print (cent, \"centimetros son:\", pulg,\"pulgadas\")"
      ],
      "metadata": {
        "colab": {
          "base_uri": "https://localhost:8080/"
        },
        "id": "O4MjaQTsetES",
        "outputId": "f134e65c-dd40-47b7-f94c-dc6a423bbaad"
      },
      "execution_count": 8,
      "outputs": [
        {
          "output_type": "stream",
          "name": "stdout",
          "text": [
            "ingresa un cantidad en centimetros 1\n",
            "1 centimetros son: 0.03280839895013123 pies\n",
            "1 centimetros son: 0.39370078740157477 pulgadas\n"
          ]
        }
      ]
    },
    {
      "cell_type": "code",
      "source": [
        "# @title codigo 6\n",
        "grados_c = int(input(\"ingresa la temperatura en grados centigrados: \"))\n",
        "grados_f = (grados_c)*(9/5)+32\n",
        "grados_k = grados_c + 273.15\n",
        "print (grados_c, \"grados celcius son:\", grados_f,\"grados fahrenheit\")\n",
        "print (grados_c, \"grados celcius son:\", grados_k,\"grados kelvin\")"
      ],
      "metadata": {
        "colab": {
          "base_uri": "https://localhost:8080/"
        },
        "id": "KMGc3ePygYqo",
        "outputId": "8d05695d-14ba-45b0-d8d9-7313eb3fbded"
      },
      "execution_count": 11,
      "outputs": [
        {
          "output_type": "stream",
          "name": "stdout",
          "text": [
            "ingresa la temperatura en grados centigrados: 0\n",
            "0 grados celcius son: 32.0 grados fahrenheit\n",
            "0 grados celcius son: 273.15 grados kelvin\n"
          ]
        }
      ]
    },
    {
      "cell_type": "code",
      "source": [
        "# @title codigo 7\n",
        "cal1= int(input(\"ingresa la calificacion del primer parcial: \"))\n",
        "cal2= int(input(\"ingresa la calificacion del segundo parcial: \"))\n",
        "cal3= int(input(\"ingresa la calificacion del tercer parcial: \"))\n",
        "cal4= int(input(\"ingresa la calificacion del cuarto parcial: \"))\n",
        "prom= (cal1+cal2+cal3+cal4)/4\n",
        "print (\"tu promedio es de: \", prom)"
      ],
      "metadata": {
        "colab": {
          "base_uri": "https://localhost:8080/"
        },
        "id": "STdIFH-Ahu4c",
        "outputId": "7074186b-5e7c-4e1b-be61-26f9ef3b37c8"
      },
      "execution_count": 13,
      "outputs": [
        {
          "output_type": "stream",
          "name": "stdout",
          "text": [
            "ingresa la calificacion del primer parcial: 100\n",
            "ingresa la calificacion del segundo parcial: 60\n",
            "ingresa la calificacion del tercer parcial: 45\n",
            "ingresa la calificacion del cuarto parcial: 85\n",
            "tu promedio es de:  72.5\n"
          ]
        }
      ]
    }
  ]
}