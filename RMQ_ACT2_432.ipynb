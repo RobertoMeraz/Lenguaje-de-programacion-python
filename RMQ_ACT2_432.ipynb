{
  "nbformat": 4,
  "nbformat_minor": 0,
  "metadata": {
    "colab": {
      "provenance": [],
      "authorship_tag": "ABX9TyOZHqsn9ym3ugoPiKHEZEzV",
      "include_colab_link": true
    },
    "kernelspec": {
      "name": "python3",
      "display_name": "Python 3"
    },
    "language_info": {
      "name": "python"
    }
  },
  "cells": [
    {
      "cell_type": "markdown",
      "metadata": {
        "id": "view-in-github",
        "colab_type": "text"
      },
      "source": [
        "<a href=\"https://colab.research.google.com/github/RobertoMeraz/Lenguaje-de-programacion-python/blob/main/RMQ_ACT2_432.ipynb\" target=\"_parent\"><img src=\"https://colab.research.google.com/assets/colab-badge.svg\" alt=\"Open In Colab\"/></a>"
      ]
    },
    {
      "cell_type": "markdown",
      "source": [
        "#Actividad 2\n",
        "#Hecho por: Roberto Meraz Quintero\n",
        "#Solicitado por: Pedro Yepiz Nuñez"
      ],
      "metadata": {
        "id": "0dbZWVE-3hNQ"
      }
    },
    {
      "cell_type": "markdown",
      "source": [
        "##Codigo 1: Programa en Python que lea 2 números enteros, usar una condición y analizar los dos números y desplegar cual de los números es el mayor. \n",
        "\n"
      ],
      "metadata": {
        "id": "3BthjKSY37CZ"
      }
    },
    {
      "cell_type": "code",
      "execution_count": 7,
      "metadata": {
        "id": "cWiYo4ZS3bSZ",
        "colab": {
          "base_uri": "https://localhost:8080/",
          "height": 0
        },
        "outputId": "988be966-80a8-41bb-c6b7-9a65c4932b72"
      },
      "outputs": [
        {
          "output_type": "stream",
          "name": "stdout",
          "text": [
            "Introduce un numero: 60\n",
            "Introduce un numero diferente del primero: 18\n",
            "el numero mayor es:  60\n"
          ]
        }
      ],
      "source": [
        "num1 = int(input(\"Introduce un numero: \"))\n",
        "num2 = int(input(\"Introduce un numero diferente del primero: \"))\n",
        "\n",
        "if(num1 > num2):\n",
        "    print(\"El numero mayor es: \",  num1)\n",
        "if(num2 > num1):\n",
        "    print(\"El numero mayor es: \",  num2)\n"
      ]
    },
    {
      "cell_type": "markdown",
      "source": [
        "##Codigo 2: Programa en Python un Algoritmo que lea 4 calificaciones de un alumno, calcular y desplegar el promedio acompañado de la leyenda \"APROBADO\" o \"REPROBADO\""
      ],
      "metadata": {
        "id": "E8Yab_Ce5pqK"
      }
    },
    {
      "cell_type": "code",
      "source": [
        "cal1 = float(input(\"Ingresa tu calificacion del primer parcial: \"))\n",
        "cal2 = float(input(\"Ingresa tu calificacion del segundo parcial: \"))\n",
        "cal3 = float(input(\"Ingresa tu calificacion del tercer parcial: \"))\n",
        "cal4 = float(input(\"Ingresa tu calificacion del cuarto parcial: \"))\n",
        "prom = (cal1+cal2+cal3+cal4)/4\n",
        "if (prom >= 60):\n",
        "    print(\"Aprobado, tu promedio es de: \", prom)\n",
        "if (prom < 60):\n",
        "    print(\"Reprobado, tu promedio es de: \", prom)"
      ],
      "metadata": {
        "colab": {
          "base_uri": "https://localhost:8080/",
          "height": 0
        },
        "id": "O2-WV0yR5zO5",
        "outputId": "05830fb6-f42c-4845-825d-51180821297d"
      },
      "execution_count": 10,
      "outputs": [
        {
          "output_type": "stream",
          "name": "stdout",
          "text": [
            "Ingresa tu calificacion del primer parcial: 54\n",
            "Ingresa tu calificacion del segundo parcial: 60\n",
            "Ingresa tu calificacion del tercer parcial: 14\n",
            "Ingresa tu calificacion del cuarto parcial: 20\n",
            "Reprobado, tu promedio es de:  37.0\n"
          ]
        }
      ]
    },
    {
      "cell_type": "markdown",
      "source": [
        "##Codigo 3: Programa en Python un Algoritmo que a través de opciones (1.- HOMBRE 2.- MUJER ) preguntar al usuario cual es su sexo y desplegar la leyenda “HOMBRE ”, “MUJER”"
      ],
      "metadata": {
        "id": "9XdKZ5tm7jXC"
      }
    },
    {
      "cell_type": "code",
      "source": [
        "sexo = int(input(\"Elija un numero para seleccionar tu sexo, 1.Hombre 2.Mujer\"))\n",
        "if (sexo == 1):\n",
        "    print(\"Hombre\")\n",
        "if (sexo == 2):\n",
        "    print(\"Mujer\")"
      ],
      "metadata": {
        "colab": {
          "base_uri": "https://localhost:8080/",
          "height": 0
        },
        "id": "pfVIH5aG7rXK",
        "outputId": "d030b6a0-b8cf-4809-89b7-c89d74f00404"
      },
      "execution_count": 13,
      "outputs": [
        {
          "output_type": "stream",
          "name": "stdout",
          "text": [
            "Elija un numero para seleccionar tu sexo, 1.Hombre 2.Mujer1\n",
            "Hombre\n"
          ]
        }
      ]
    },
    {
      "cell_type": "markdown",
      "source": [
        "##Codigo 4: Programa en Python que lea un número entero, y desplegar si el número es “PAR” o “IMPAR”"
      ],
      "metadata": {
        "id": "Xj1cViWH9Jnz"
      }
    },
    {
      "cell_type": "code",
      "source": [
        "num = int(input(\"Ingresa un numero: \"))\n",
        "if (num % 2 == 0):\n",
        "    print(\"El numero es PAR\")\n",
        "if (num % 2 != 0):\n",
        "    print(\"El numero es IMPAR\")"
      ],
      "metadata": {
        "colab": {
          "base_uri": "https://localhost:8080/",
          "height": 0
        },
        "id": "_MtCK1Qa9QIb",
        "outputId": "c8133b34-f69c-4570-dbad-047597b2bc38"
      },
      "execution_count": 15,
      "outputs": [
        {
          "output_type": "stream",
          "name": "stdout",
          "text": [
            "Ingresa un numero: 15\n",
            "El numero es IMPAR\n"
          ]
        }
      ]
    },
    {
      "cell_type": "markdown",
      "source": [
        "##Codigo 5: Programa en Python que lea 2 números enteros, usar una condición y analizar los dos números y desplegar cual de los números es el mayor."
      ],
      "metadata": {
        "id": "WtGs5YaU-NEU"
      }
    },
    {
      "cell_type": "code",
      "source": [
        "num1 = int(input(\"Ingresa un numero: \"))\n",
        "num2 = int(input(\"Ingresa un numero diferente del primero: \"))\n",
        "if(num1 > num2):\n",
        "    print(\"El numero mayor es: \", num1)\n",
        "else:\n",
        "    print(\"El numero mayor es: \", num2)"
      ],
      "metadata": {
        "colab": {
          "base_uri": "https://localhost:8080/",
          "height": 0
        },
        "id": "FW6I-47G-UWT",
        "outputId": "df7fb1d5-be8d-4f08-d8da-cb3a72e4389a"
      },
      "execution_count": 17,
      "outputs": [
        {
          "output_type": "stream",
          "name": "stdout",
          "text": [
            "Ingresa un numero: 15\n",
            "Ingresa un numero diferente del primero: 19\n",
            "El numero mayor es:  19\n"
          ]
        }
      ]
    },
    {
      "cell_type": "markdown",
      "source": [
        "##Codigo 6: Programa en Python que lea 4 calificaciones de un alumno, calcular y desplegar el promedio acompañado de la leyenda APROBADO o REPROBADO\n",
        "\n"
      ],
      "metadata": {
        "id": "Q89KFQ7C_F0D"
      }
    },
    {
      "cell_type": "code",
      "source": [
        "cal1 = float(input(\"Ingresa tu calificacion del primer parcial: \"))\n",
        "cal2 = float(input(\"Ingresa tu calificacion del segundo parcial: \"))\n",
        "cal3 = float(input(\"Ingresa tu calificacion del tercer parcial: \"))\n",
        "cal4 = float(input(\"Ingresa tu calificacion del cuarto parcial: \"))\n",
        "prom = (cal1+cal2+cal3+cal4)/4\n",
        "if (prom >= 60):\n",
        "    print(\"Aprobado, tu promedio es de: \", prom)\n",
        "else:\n",
        "    print(\"Reprobado, tu promedio es de: \", prom)"
      ],
      "metadata": {
        "colab": {
          "base_uri": "https://localhost:8080/",
          "height": 0
        },
        "id": "TLZ--2jx_Pvc",
        "outputId": "5ed8664b-7639-4d11-8886-1625801f75f8"
      },
      "execution_count": 18,
      "outputs": [
        {
          "output_type": "stream",
          "name": "stdout",
          "text": [
            "Ingresa tu calificacion del primer parcial: 60\n",
            "Ingresa tu calificacion del segundo parcial: 50\n",
            "Ingresa tu calificacion del tercer parcial: 90\n",
            "Ingresa tu calificacion del cuarto parcial: 61\n",
            "Aprobado, tu promedio es de:  65.25\n"
          ]
        }
      ]
    },
    {
      "cell_type": "markdown",
      "source": [
        "##Codigo 7: Programa en Python que a través de opciones (1.- HOMBRE 2.- MUJER ) preguntar al usuario cual es su sexo y desplegar la leyenda “HOMBRE ”, “MUJER”"
      ],
      "metadata": {
        "id": "CqqqI7Cu_ivs"
      }
    },
    {
      "cell_type": "code",
      "source": [
        "sexo = int(input(\"Elija un numero para seleccionar tu sexo, 1.Hombre 2.Mujer\"))\n",
        "if (sexo == 1):\n",
        "    print(\"Hombre\")\n",
        "else:\n",
        "    print(\"Mujer\")"
      ],
      "metadata": {
        "colab": {
          "base_uri": "https://localhost:8080/",
          "height": 0
        },
        "id": "DNLcNTVD_rwU",
        "outputId": "1a3ec0fb-3171-4133-d0da-60cc0505b150"
      },
      "execution_count": 20,
      "outputs": [
        {
          "output_type": "stream",
          "name": "stdout",
          "text": [
            "Elija un numero para seleccionar tu sexo, 1.Hombre 2.Mujer2\n",
            "Mujer\n"
          ]
        }
      ]
    },
    {
      "cell_type": "markdown",
      "source": [
        "##Codigo 8: Programa en Python que lea un número entero, y desplegar si el número es “PAR” o “IMPAR”\n",
        "\n"
      ],
      "metadata": {
        "id": "JsFSGXE4_xPU"
      }
    },
    {
      "cell_type": "code",
      "source": [
        "num = int(input(\"Ingresa un numero: \"))\n",
        "if (num % 2 == 0):\n",
        "    print(\"El numero es PAR\")\n",
        "else:\n",
        "    print(\"El numero es IMPAR\")"
      ],
      "metadata": {
        "colab": {
          "base_uri": "https://localhost:8080/",
          "height": 0
        },
        "id": "GYzmLh_z_94U",
        "outputId": "5984d2a4-dd17-418f-888a-ecd052ab08e2"
      },
      "execution_count": 21,
      "outputs": [
        {
          "output_type": "stream",
          "name": "stdout",
          "text": [
            "Ingresa un numero: 15\n",
            "El numero es IMPAR\n"
          ]
        }
      ]
    }
  ]
}