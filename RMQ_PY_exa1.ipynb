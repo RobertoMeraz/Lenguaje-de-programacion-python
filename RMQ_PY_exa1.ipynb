{
  "nbformat": 4,
  "nbformat_minor": 0,
  "metadata": {
    "colab": {
      "provenance": [],
      "authorship_tag": "ABX9TyOoQWklhudxjtMStjGYHgbe",
      "include_colab_link": true
    },
    "kernelspec": {
      "name": "python3",
      "display_name": "Python 3"
    },
    "language_info": {
      "name": "python"
    }
  },
  "cells": [
    {
      "cell_type": "markdown",
      "metadata": {
        "id": "view-in-github",
        "colab_type": "text"
      },
      "source": [
        "<a href=\"https://colab.research.google.com/github/RobertoMeraz/Lenguaje-de-programacion-python/blob/main/RMQ_PY_exa1.ipynb\" target=\"_parent\"><img src=\"https://colab.research.google.com/assets/colab-badge.svg\" alt=\"Open In Colab\"/></a>"
      ]
    },
    {
      "cell_type": "markdown",
      "source": [
        "#Escribe una funcion de Python en collaboratory que realice lo siguiente:\n",
        "#funcion que retorne el resultado del area de un triangulo\n",
        "#Escribir codigo que mande llamar la funcion y desplegar el resultado,\n",
        "#VALIDAR datos entrada"
      ],
      "metadata": {
        "id": "d3Q9vdCbtn08"
      }
    },
    {
      "cell_type": "code",
      "source": [
        "def area_triangualo():\n",
        "  base = float(input(\"Ingresa la base del triangulo en unidades cuadradas: \"))\n",
        "  h = float(input(\"Ingresa la altura del triangulo en unidades cuadradas: \"))\n",
        "  area = (base*h)/2\n",
        "  print(f\"El area del triangulo es de: {area} unidades cuadradas \")\n",
        "  return "
      ],
      "metadata": {
        "id": "bUNMRAuRtv_r"
      },
      "execution_count": 29,
      "outputs": []
    },
    {
      "cell_type": "code",
      "source": [
        "area_triangualo()"
      ],
      "metadata": {
        "colab": {
          "base_uri": "https://localhost:8080/"
        },
        "id": "CtpP_E8fwdp0",
        "outputId": "339977fd-1c81-47e9-e7f3-ca760e27b0fe"
      },
      "execution_count": 30,
      "outputs": [
        {
          "output_type": "stream",
          "name": "stdout",
          "text": [
            "Ingresa la base del triangulo en unidades cuadradas: 20\n",
            "Ingresa la altura del triangulo en unidades cuadradas: 15\n",
            "El area del triangulo es de: 150.0 unidades cuadradas \n"
          ]
        }
      ]
    }
  ]
}