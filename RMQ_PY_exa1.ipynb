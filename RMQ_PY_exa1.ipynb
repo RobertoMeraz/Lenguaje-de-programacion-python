{
  "nbformat": 4,
  "nbformat_minor": 0,
  "metadata": {
    "colab": {
      "provenance": [],
      "authorship_tag": "ABX9TyNLcg0OP9AbhArGr++PomWO",
      "include_colab_link": true
    },
    "kernelspec": {
      "name": "python3",
      "display_name": "Python 3"
    },
    "language_info": {
      "name": "python"
    }
  },
  "cells": [
    {
      "cell_type": "markdown",
      "metadata": {
        "id": "view-in-github",
        "colab_type": "text"
      },
      "source": [
        "<a href=\"https://colab.research.google.com/github/RobertoMeraz/Lenguaje-de-programacion-python/blob/main/RMQ_PY_exa1.ipynb\" target=\"_parent\"><img src=\"https://colab.research.google.com/assets/colab-badge.svg\" alt=\"Open In Colab\"/></a>"
      ]
    },
    {
      "cell_type": "markdown",
      "source": [
        "#Escribe una funcion de Python en collaboratory que realice lo siguiente:\n",
        "#funcion que retorne el resultado del area de un triangulo\n",
        "#Escribir codigo que mande llamar la funcion y desplegar el resultado,\n",
        "#VALIDAR datos entrada"
      ],
      "metadata": {
        "id": "d3Q9vdCbtn08"
      }
    },
    {
      "cell_type": "code",
      "source": [
        "def area_triangualo():\n",
        "  base = float(input(\"Ingresa la base del triangulo en unidades cuadradas: \"))\n",
        "  h = float(input(\"Ingresa la altura del triangulo en unidades cuadradas: \"))\n",
        "  area = (base*h)/2\n",
        "  print(f\"El area del triangulo es de: {area} unidades cuadradas \")\n",
        "  return "
      ],
      "metadata": {
        "id": "bUNMRAuRtv_r"
      },
      "execution_count": 29,
      "outputs": []
    },
    {
      "cell_type": "code",
      "source": [
        "area_triangualo()"
      ],
      "metadata": {
        "colab": {
          "base_uri": "https://localhost:8080/"
        },
        "id": "CtpP_E8fwdp0",
        "outputId": "339977fd-1c81-47e9-e7f3-ca760e27b0fe"
      },
      "execution_count": 30,
      "outputs": [
        {
          "output_type": "stream",
          "name": "stdout",
          "text": [
            "Ingresa la base del triangulo en unidades cuadradas: 20\n",
            "Ingresa la altura del triangulo en unidades cuadradas: 15\n",
            "El area del triangulo es de: 150.0 unidades cuadradas \n"
          ]
        }
      ]
    },
    {
      "cell_type": "markdown",
      "source": [
        "#Escribe una funcion de Python en collaboratory que realice lo siguiente:\n",
        "#funcion que retorne una lista con 30 numeros generados aleatorios (20-100) no repetidos\n",
        "#Escribir codigo que mande llamar la funcion y desplegar el resultado,\n",
        "#Escribir enlace a GITHUB a un dcto que se llame INICIALES_PY_exa1"
      ],
      "metadata": {
        "id": "CIbG7fAgy2-F"
      }
    },
    {
      "cell_type": "code",
      "source": [
        "import random"
      ],
      "metadata": {
        "id": "bY9ZACKWzGY7"
      },
      "execution_count": 31,
      "outputs": []
    },
    {
      "cell_type": "code",
      "source": [
        "def gennums():\n",
        "  rand_nums = list(range(20,100))\n",
        "  lista_rand_nums = random.sample(rand_nums, 30)\n",
        "  print(f\"lista de 30 numeros aleatorios no repetidos: {lista_rand_nums}\")\n",
        "  return"
      ],
      "metadata": {
        "id": "2XCajR5izYQM"
      },
      "execution_count": 39,
      "outputs": []
    },
    {
      "cell_type": "code",
      "source": [
        "gennums()"
      ],
      "metadata": {
        "colab": {
          "base_uri": "https://localhost:8080/"
        },
        "id": "lTJfSAPX1Joc",
        "outputId": "eb4ca2e0-58c0-4da4-a24c-bc469d6c6374"
      },
      "execution_count": 40,
      "outputs": [
        {
          "output_type": "stream",
          "name": "stdout",
          "text": [
            "lista de 30 numeros aleatorios no repetidos: [25, 92, 55, 83, 89, 44, 69, 39, 48, 85, 97, 33, 70, 98, 45, 49, 36, 73, 84, 71, 24, 59, 37, 56, 95, 79, 81, 50, 63, 93]\n"
          ]
        }
      ]
    }
  ]
}