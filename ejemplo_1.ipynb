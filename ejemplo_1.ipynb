{
  "nbformat": 4,
  "nbformat_minor": 0,
  "metadata": {
    "colab": {
      "provenance": [],
      "authorship_tag": "ABX9TyNB+jixsKx9zIsTyz0e7CBf",
      "include_colab_link": true
    },
    "kernelspec": {
      "name": "python3",
      "display_name": "Python 3"
    },
    "language_info": {
      "name": "python"
    }
  },
  "cells": [
    {
      "cell_type": "markdown",
      "metadata": {
        "id": "view-in-github",
        "colab_type": "text"
      },
      "source": [
        "<a href=\"https://colab.research.google.com/github/RobertoMeraz/Lenguaje-de-programacion-python/blob/main/ejemplo_1.ipynb\" target=\"_parent\"><img src=\"https://colab.research.google.com/assets/colab-badge.svg\" alt=\"Open In Colab\"/></a>"
      ]
    },
    {
      "cell_type": "markdown",
      "source": [
        "#Mi primer programa en python con colaboratory\n",
        "\n",
        "\n",
        "1.   Usar colaboratory\n",
        "2.   GIT HUB\n",
        "3.   La sentencia de salida print\n",
        "\n",
        "\n"
      ],
      "metadata": {
        "id": "VDJmpB3Uy3Zk"
      }
    },
    {
      "cell_type": "code",
      "execution_count": 1,
      "metadata": {
        "colab": {
          "base_uri": "https://localhost:8080/"
        },
        "id": "2PHADVCXxh83",
        "outputId": "c2140146-ccdd-4313-e23a-3f7845c7f707"
      },
      "outputs": [
        {
          "output_type": "stream",
          "name": "stdout",
          "text": [
            "Hola mundo\n"
          ]
        }
      ],
      "source": [
        "print (\"Hola mundo\")"
      ]
    },
    {
      "cell_type": "code",
      "source": [
        "num =10"
      ],
      "metadata": {
        "id": "WvqFtxTH1-RK"
      },
      "execution_count": 6,
      "outputs": []
    },
    {
      "cell_type": "markdown",
      "source": [
        "## Este es mi nombre"
      ],
      "metadata": {
        "id": "f5ZYR_3v0uwi"
      }
    },
    {
      "cell_type": "code",
      "source": [
        "print(\"Roberto Meraz Quintero\")"
      ],
      "metadata": {
        "colab": {
          "base_uri": "https://localhost:8080/"
        },
        "id": "Zd_zJ3170Ntj",
        "outputId": "1a2ea950-2548-4c6d-9b5b-9e7c3008cd06"
      },
      "execution_count": 2,
      "outputs": [
        {
          "output_type": "stream",
          "name": "stdout",
          "text": [
            "Roberto Meraz Quintero\n"
          ]
        }
      ]
    },
    {
      "cell_type": "markdown",
      "source": [
        "### Me conocen por:"
      ],
      "metadata": {
        "id": "Mll0LSiD1GmL"
      }
    },
    {
      "cell_type": "code",
      "source": [
        "print (\"Mase\")"
      ],
      "metadata": {
        "colab": {
          "base_uri": "https://localhost:8080/"
        },
        "id": "oR5XG0lV1LS6",
        "outputId": "68713257-b6b1-4320-96f4-9f2629ac6ddd"
      },
      "execution_count": 3,
      "outputs": [
        {
          "output_type": "stream",
          "name": "stdout",
          "text": [
            "Mase\n"
          ]
        }
      ]
    }
  ]
}